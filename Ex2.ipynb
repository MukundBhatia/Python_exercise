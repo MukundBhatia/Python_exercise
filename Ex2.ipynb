{
 "cells": [
  {
   "cell_type": "code",
   "execution_count": 4,
   "id": "bab6c906-0cf8-4a19-8014-ea48a4be4d5e",
   "metadata": {},
   "outputs": [],
   "source": [
    "#Q1Write a program to accept two numbers from the user and calculate multiplication\n",
    "def fun_multiply():\n",
    "    num1=float(input(\"enter first number\"))\n",
    "    num2=float(input(\"enter second number\"))\n",
    "    return num1*num2;"
   ]
  },
  {
   "cell_type": "code",
   "execution_count": 6,
   "id": "62e7d8dd-39b0-4b82-836b-d193fb141e69",
   "metadata": {},
   "outputs": [
    {
     "name": "stdin",
     "output_type": "stream",
     "text": [
      "enter first number 3\n",
      "enter second number 2.5\n"
     ]
    }
   ],
   "source": [
    "prod=fun_multiply()"
   ]
  },
  {
   "cell_type": "code",
   "execution_count": 7,
   "id": "ba3ac60a-3b66-4dc3-978a-421a1347438d",
   "metadata": {},
   "outputs": [
    {
     "data": {
      "text/plain": [
       "7.5"
      ]
     },
     "execution_count": 7,
     "metadata": {},
     "output_type": "execute_result"
    }
   ],
   "source": [
    "prod"
   ]
  },
  {
   "cell_type": "code",
   "execution_count": 3,
   "id": "99982dd7-a5b2-4527-8935-c5d278f86563",
   "metadata": {},
   "outputs": [
    {
     "name": "stdout",
     "output_type": "stream",
     "text": [
      "Name**Is**James\n"
     ]
    }
   ],
   "source": [
    "#Q2Use the print() function to format the given words in the mentioned format. Display the ** separator between each string.\n",
    "#print('Name', 'Is', 'James') will display Name**Is**James\n",
    "print('Name', 'Is', 'James', sep=\"**\")"
   ]
  },
  {
   "cell_type": "code",
   "execution_count": 8,
   "id": "91df4a0d-e476-443b-bade-51dd23e46e86",
   "metadata": {},
   "outputs": [
    {
     "name": "stdout",
     "output_type": "stream",
     "text": [
      "10\n"
     ]
    }
   ],
   "source": [
    "#Q3 Convert Decimal number to octal using print() output formatting\n",
    "num3=8\n",
    "print('%o' %num3)"
   ]
  },
  {
   "cell_type": "code",
   "execution_count": 10,
   "id": "b45e8c16-50ce-4846-adf5-54bbb7ffe010",
   "metadata": {},
   "outputs": [
    {
     "name": "stdout",
     "output_type": "stream",
     "text": [
      "458.54\n"
     ]
    }
   ],
   "source": [
    "#Q4Display float number with 2 decimal places using print()\n",
    "float1=458.541315\n",
    "print('%0.2f' %float1)"
   ]
  },
  {
   "cell_type": "code",
   "execution_count": 11,
   "id": "a304115f-8427-4120-869c-c49365abca94",
   "metadata": {},
   "outputs": [
    {
     "name": "stdin",
     "output_type": "stream",
     "text": [
      "enter the number 1.1\n",
      "enter the number 1.2\n",
      "enter the number 1.3\n",
      "enter the number 1.4\n",
      "enter the number 1.5\n"
     ]
    },
    {
     "name": "stdout",
     "output_type": "stream",
     "text": [
      "[1.1, 1.2, 1.3, 1.4, 1.5]\n"
     ]
    }
   ],
   "source": [
    "#Q5 Accept a list of 5 float numbers as an input from the user\n",
    "numbers=[]\n",
    "\n",
    "for i in range(0,5):\n",
    "    item=float(input(\"enter the number\"))\n",
    "    numbers.append(item)\n",
    "print(numbers)"
   ]
  },
  {
   "cell_type": "code",
   "execution_count": 7,
   "id": "ec0f4739-c108-4919-b853-51ff7531dc98",
   "metadata": {},
   "outputs": [
    {
     "name": "stdout",
     "output_type": "stream",
     "text": [
      "['line1\\n', 'line2\\n', 'line3\\n', 'line4\\n', 'line5\\n', 'line6\\n', 'line7']\n",
      "['line1\\n', 'line2\\n', 'line3\\n', 'line4\\n', 'line6\\n', 'line7']\n"
     ]
    }
   ],
   "source": [
    "#Q6 Write all content of a given file into a new file by skipping line number 5\n",
    "# read test.txt\n",
    "with open(\"test.txt\", \"r\") as fp:\n",
    "    # read all lines from a file\n",
    "    lines = fp.readlines()\n",
    "# open new file in write mode\n",
    "with open(\"new_file.txt\", \"w\") as fp:\n",
    "    count = 0\n",
    "    # iterate each lines from a test.txt\n",
    "    for line in lines:\n",
    "        # skip 5th lines\n",
    "        if count == 4:\n",
    "            count += 1\n",
    "            continue\n",
    "        else:\n",
    "            # write current line\n",
    "            fp.write(line)\n",
    "        # in each iteration reduce the count\n",
    "        count += 1\n",
    "with open(\"new_file.txt\", \"r\") as fp:\n",
    "    # read all lines from a file\n",
    "    lines1 = fp.readlines()\n",
    "print(lines)\n",
    "print(lines1)"
   ]
  },
  {
   "cell_type": "code",
   "execution_count": 9,
   "id": "1ba9c3a6-f0b7-4f59-b579-817ad6b74c76",
   "metadata": {},
   "outputs": [
    {
     "name": "stdin",
     "output_type": "stream",
     "text": [
      "Enter three string Mukund Raj Vasu\n"
     ]
    },
    {
     "name": "stdout",
     "output_type": "stream",
     "text": [
      "Name1: Mukund\n",
      "Name2: Raj\n",
      "Name3: Vasu\n"
     ]
    }
   ],
   "source": [
    "#Q7 Write a program to take three names as input from a user in the single input() function call.\n",
    "str1, str2, str3 = input(\"Enter three string\").split()\n",
    "print('Name1:', str1)\n",
    "print('Name2:', str2)\n",
    "print('Name3:', str3)"
   ]
  },
  {
   "cell_type": "code",
   "execution_count": 10,
   "id": "f684308e-5e9c-46ea-a92d-dacb6949e5bc",
   "metadata": {},
   "outputs": [
    {
     "name": "stdout",
     "output_type": "stream",
     "text": [
      "I have 1000 dollars so I can buy 3 football for 450.00 dollars.\n"
     ]
    }
   ],
   "source": [
    "#Q8 Write a program to use string.format() method to format the following three variables as per the expected output\n",
    "quantity = 3\n",
    "totalMoney = 1000\n",
    "price = 450\n",
    "statement1 = \"I have {1} dollars so I can buy {0} football for {2:.2f} dollars.\"\n",
    "print(statement1.format(quantity, totalMoney, price))"
   ]
  },
  {
   "cell_type": "code",
   "execution_count": 12,
   "id": "9f23c7c5-b5d0-4e11-9757-fa06e86f5add",
   "metadata": {},
   "outputs": [
    {
     "name": "stdout",
     "output_type": "stream",
     "text": [
      "not empty\n"
     ]
    }
   ],
   "source": [
    "#Q9 Write a program to check if the given file is empty or not\n",
    "import os\n",
    "\n",
    "size = os.stat(\"test.txt\").st_size\n",
    "if size == 0:\n",
    "    print('file is empty')\n",
    "else:\n",
    "    print('not empty')\n"
   ]
  },
  {
   "cell_type": "code",
   "execution_count": 14,
   "id": "210a85ba-6262-4559-9174-ce428695b057",
   "metadata": {},
   "outputs": [
    {
     "name": "stdout",
     "output_type": "stream",
     "text": [
      "line4\n",
      "\n"
     ]
    }
   ],
   "source": [
    "#Q10 Read line number 4 from the following file\n",
    "# read file\n",
    "with open(\"test.txt\", \"r\") as fp:\n",
    "    # read all lines from a file\n",
    "    lines = fp.readlines()\n",
    "    # get line number 4\n",
    "    print(lines[3])\n"
   ]
  },
  {
   "cell_type": "code",
   "execution_count": null,
   "id": "55b5aaa1-1d19-4933-9cfa-1ab0253c8491",
   "metadata": {},
   "outputs": [],
   "source": []
  }
 ],
 "metadata": {
  "kernelspec": {
   "display_name": "Python 3 (ipykernel)",
   "language": "python",
   "name": "python3"
  },
  "language_info": {
   "codemirror_mode": {
    "name": "ipython",
    "version": 3
   },
   "file_extension": ".py",
   "mimetype": "text/x-python",
   "name": "python",
   "nbconvert_exporter": "python",
   "pygments_lexer": "ipython3",
   "version": "3.10.4"
  }
 },
 "nbformat": 4,
 "nbformat_minor": 5
}
