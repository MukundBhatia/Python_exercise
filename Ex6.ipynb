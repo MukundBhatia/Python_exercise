{
 "cells": [
  {
   "cell_type": "code",
   "execution_count": 1,
   "id": "6e49ec13-1e31-4316-b3b7-5106362a53ab",
   "metadata": {},
   "outputs": [
    {
     "name": "stdout",
     "output_type": "stream",
     "text": [
      "Element at odd-index positions from list one\n",
      "[6, 12, 18]\n",
      "Element at even-index positions from list two\n",
      "[4, 12, 20, 28]\n",
      "Printing Final third list\n",
      "[6, 12, 18, 4, 12, 20, 28]\n"
     ]
    }
   ],
   "source": [
    "list1 = [3, 6, 9, 12, 15, 18, 21]\n",
    "list2 = [4, 8, 12, 16, 20, 24, 28]\n",
    "res = list()\n",
    "\n",
    "odd_elements = list1[1::2]\n",
    "print(\"Element at odd-index positions from list one\")\n",
    "print(odd_elements)\n",
    "\n",
    "even_elements = list2[0::2]\n",
    "print(\"Element at even-index positions from list two\")\n",
    "print(even_elements)\n",
    "\n",
    "print(\"Printing Final third list\")\n",
    "res.extend(odd_elements)\n",
    "res.extend(even_elements)\n",
    "print(res)\n"
   ]
  },
  {
   "cell_type": "code",
   "execution_count": 2,
   "id": "9bde9db7-64d3-42b7-9869-e9530ff30c29",
   "metadata": {},
   "outputs": [
    {
     "name": "stdout",
     "output_type": "stream",
     "text": [
      "Original list  [34, 54, 67, 89, 11, 43, 94]\n",
      "List After removing element at index 4  [34, 54, 67, 89, 43, 94]\n",
      "List after Adding element at index 2  [34, 54, 11, 67, 89, 43, 94]\n",
      "List after Adding element at last  [34, 54, 11, 67, 89, 43, 94, 11]\n"
     ]
    }
   ],
   "source": [
    "sample_list = [34, 54, 67, 89, 11, 43, 94]\n",
    "\n",
    "print(\"Original list \", sample_list)\n",
    "element = sample_list.pop(4)\n",
    "print(\"List After removing element at index 4 \", sample_list)\n",
    "\n",
    "sample_list.insert(2, element)\n",
    "print(\"List after Adding element at index 2 \", sample_list)\n",
    "\n",
    "sample_list.append(element)\n",
    "print(\"List after Adding element at last \", sample_list)"
   ]
  },
  {
   "cell_type": "code",
   "execution_count": 3,
   "id": "1f59344d-1c18-41d8-ab76-cb93699a57f0",
   "metadata": {},
   "outputs": [
    {
     "name": "stdout",
     "output_type": "stream",
     "text": [
      "Original list  [11, 45, 8, 23, 14, 12, 78, 45, 89]\n",
      "Chunk  0 [11, 45, 8]\n",
      "After reversing it  [8, 45, 11]\n",
      "Chunk  1 [23, 14, 12]\n",
      "After reversing it  [12, 14, 23]\n",
      "Chunk  2 [78, 45, 89]\n",
      "After reversing it  [89, 45, 78]\n"
     ]
    }
   ],
   "source": [
    "sample_list = [11, 45, 8, 23, 14, 12, 78, 45, 89]\n",
    "print(\"Original list \", sample_list)\n",
    "\n",
    "length = len(sample_list)\n",
    "chunk_size = int(length / 3)\n",
    "start = 0\n",
    "end = chunk_size\n",
    "\n",
    "# run loop 3 times\n",
    "for i in range(3):\n",
    "    # get indexes\n",
    "    indexes = slice(start, end)\n",
    "    \n",
    "    # get chunk\n",
    "    list_chunk = sample_list[indexes]\n",
    "    print(\"Chunk \", i, list_chunk)\n",
    "    \n",
    "    # reverse chunk\n",
    "    print(\"After reversing it \", list(reversed(list_chunk)))\n",
    "\n",
    "    start = end\n",
    "    end += chunk_size\n"
   ]
  },
  {
   "cell_type": "code",
   "execution_count": 4,
   "id": "77ca103a-0245-4c12-8e7a-3ba951b29ccc",
   "metadata": {},
   "outputs": [
    {
     "name": "stdout",
     "output_type": "stream",
     "text": [
      "Original list  [11, 45, 8, 11, 23, 45, 23, 45, 89]\n",
      "Printing count of each item   {11: 2, 45: 3, 8: 1, 23: 2, 89: 1}\n"
     ]
    }
   ],
   "source": [
    "sample_list = [11, 45, 8, 11, 23, 45, 23, 45, 89]\n",
    "print(\"Original list \", sample_list)\n",
    "\n",
    "count_dict = dict()\n",
    "for item in sample_list:\n",
    "    if item in count_dict:\n",
    "        count_dict[item] += 1\n",
    "    else:\n",
    "        count_dict[item] = 1\n",
    "\n",
    "print(\"Printing count of each item  \", count_dict)\n"
   ]
  },
  {
   "cell_type": "code",
   "execution_count": 5,
   "id": "0dfa044a-d152-4138-83d3-99fb55c3e097",
   "metadata": {},
   "outputs": [
    {
     "name": "stdout",
     "output_type": "stream",
     "text": [
      "First List  [2, 3, 4, 5, 6, 7, 8]\n",
      "Second List  [4, 9, 16, 25, 36, 49, 64]\n",
      "{(7, 49), (2, 4), (4, 16), (8, 64), (6, 36), (3, 9), (5, 25)}\n"
     ]
    }
   ],
   "source": [
    "first_list = [2, 3, 4, 5, 6, 7, 8]\n",
    "print(\"First List \", first_list)\n",
    "\n",
    "second_list = [4, 9, 16, 25, 36, 49, 64]\n",
    "print(\"Second List \", second_list)\n",
    "\n",
    "result = zip(first_list, second_list)\n",
    "result_set = set(result)\n",
    "print(result_set)\n"
   ]
  },
  {
   "cell_type": "code",
   "execution_count": 6,
   "id": "77d10033-2122-43b2-ada7-bebea4c73161",
   "metadata": {},
   "outputs": [
    {
     "name": "stdout",
     "output_type": "stream",
     "text": [
      "First Set  {65, 83, 23, 57, 42, 29, 78}\n",
      "Second Set  {48, 67, 83, 73, 43, 29, 57}\n",
      "Intersection is  {57, 83, 29}\n",
      "First Set after removing common element  {65, 23, 42, 78}\n"
     ]
    }
   ],
   "source": [
    "first_set = {23, 42, 65, 57, 78, 83, 29}\n",
    "second_set = {57, 83, 29, 67, 73, 43, 48}\n",
    "\n",
    "print(\"First Set \", first_set)\n",
    "print(\"Second Set \", second_set)\n",
    "\n",
    "intersection = first_set.intersection(second_set)\n",
    "print(\"Intersection is \", intersection)\n",
    "for item in intersection:\n",
    "    first_set.remove(item)\n",
    "\n",
    "print(\"First Set after removing common element \", first_set)\n"
   ]
  },
  {
   "cell_type": "code",
   "execution_count": 7,
   "id": "9b28de6e-7d16-4766-b393-e392318871ea",
   "metadata": {},
   "outputs": [
    {
     "name": "stdout",
     "output_type": "stream",
     "text": [
      "First Set  {57, 83, 29}\n",
      "Second Set  {48, 67, 83, 73, 43, 29, 57}\n",
      "First set is subset of second set - True\n",
      "Second set is subset of First set -  False\n",
      "First set is Super set of second set -  False\n",
      "Second set is Super set of First set -  True\n",
      "First Set  set()\n",
      "Second Set  {48, 67, 83, 73, 43, 29, 57}\n"
     ]
    }
   ],
   "source": [
    "first_set = {57, 83, 29}\n",
    "second_set = {57, 83, 29, 67, 73, 43, 48}\n",
    "\n",
    "print(\"First Set \", first_set)\n",
    "print(\"Second Set \", second_set)\n",
    "\n",
    "print(\"First set is subset of second set -\", first_set.issubset(second_set))\n",
    "print(\"Second set is subset of First set - \", second_set.issubset(first_set))\n",
    "\n",
    "print(\"First set is Super set of second set - \", first_set.issuperset(second_set))\n",
    "print(\"Second set is Super set of First set - \", second_set.issuperset(first_set))\n",
    "\n",
    "if first_set.issubset(second_set):\n",
    "    first_set.clear()\n",
    "\n",
    "if second_set.issubset(first_set):\n",
    "    second_set.clear()\n",
    "\n",
    "print(\"First Set \", first_set)\n",
    "print(\"Second Set \", second_set)"
   ]
  },
  {
   "cell_type": "code",
   "execution_count": 8,
   "id": "87cfc2f2-b47e-4f7c-8ecd-ad6777c84594",
   "metadata": {},
   "outputs": [
    {
     "name": "stdout",
     "output_type": "stream",
     "text": [
      "List: [47, 64, 69, 37, 76, 83, 95, 97]\n",
      "Dictionary: {'Jhon': 47, 'Emma': 69, 'Kelly': 76, 'Jason': 97}\n",
      "after removing unwanted elements from list: [47, 69, 76, 97]\n"
     ]
    }
   ],
   "source": [
    "roll_number = [47, 64, 69, 37, 76, 83, 95, 97]\n",
    "sample_dict = {'Jhon': 47, 'Emma': 69, 'Kelly': 76, 'Jason': 97}\n",
    "\n",
    "print(\"List:\", roll_number)\n",
    "print(\"Dictionary:\", sample_dict)\n",
    "\n",
    "# create new list\n",
    "roll_number[:] = [item for item in roll_number if item in sample_dict.values()]\n",
    "print(\"after removing unwanted elements from list:\", roll_number)\n"
   ]
  },
  {
   "cell_type": "code",
   "execution_count": 9,
   "id": "e94b7aa2-66a2-4cfc-99bc-7299bf088d2f",
   "metadata": {},
   "outputs": [
    {
     "name": "stdout",
     "output_type": "stream",
     "text": [
      "Dictionary's values -  dict_values([47, 52, 47, 44, 52, 53, 54, 44, 54])\n",
      "unique list [47, 52, 44, 53, 54]\n"
     ]
    }
   ],
   "source": [
    "speed = {'jan': 47, 'feb': 52, 'march': 47, 'April': 44, 'May': 52, 'June': 53,\n",
    "         'july': 54, 'Aug': 44, 'Sept': 54}\n",
    "\n",
    "print(\"Dictionary's values - \", speed.values())\n",
    "\n",
    "speed_list = list()\n",
    "\n",
    "# iterate dict values\n",
    "for val in speed.values():\n",
    "    # check if value not present in a list\n",
    "    if val not in speed_list:\n",
    "        speed_list.append(val)\n",
    "print(\"unique list\", speed_list)"
   ]
  },
  {
   "cell_type": "code",
   "execution_count": null,
   "id": "2759b070-08e2-4c6a-8369-0711b3978a00",
   "metadata": {},
   "outputs": [],
   "source": []
  }
 ],
 "metadata": {
  "kernelspec": {
   "display_name": "Python 3 (ipykernel)",
   "language": "python",
   "name": "python3"
  },
  "language_info": {
   "codemirror_mode": {
    "name": "ipython",
    "version": 3
   },
   "file_extension": ".py",
   "mimetype": "text/x-python",
   "name": "python",
   "nbconvert_exporter": "python",
   "pygments_lexer": "ipython3",
   "version": "3.10.4"
  }
 },
 "nbformat": 4,
 "nbformat_minor": 5
}
