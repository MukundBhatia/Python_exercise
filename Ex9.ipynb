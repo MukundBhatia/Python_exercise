{
 "cells": [
  {
   "cell_type": "code",
   "execution_count": 1,
   "id": "47ed6481-dbad-40e5-b49f-62ada8282d1c",
   "metadata": {},
   "outputs": [
    {
     "name": "stdout",
     "output_type": "stream",
     "text": [
      "{'Yellow', 'Red', 'Black', 'Orange', 'Green', 'Blue'}\n"
     ]
    }
   ],
   "source": [
    "sample_set = {\"Yellow\", \"Orange\", \"Black\"}\n",
    "sample_list = [\"Blue\", \"Green\", \"Red\"]\n",
    "\n",
    "sample_set.update(sample_list)\n",
    "print(sample_set)\n"
   ]
  },
  {
   "cell_type": "code",
   "execution_count": 2,
   "id": "e7544ffc-3e0b-410e-97f7-436f3b6ef2eb",
   "metadata": {},
   "outputs": [
    {
     "name": "stdout",
     "output_type": "stream",
     "text": [
      "{40, 50, 30}\n"
     ]
    }
   ],
   "source": [
    "set1 = {10, 20, 30, 40, 50}\n",
    "set2 = {30, 40, 50, 60, 70}\n",
    "\n",
    "print(set1.intersection(set2))"
   ]
  },
  {
   "cell_type": "code",
   "execution_count": 3,
   "id": "334e3e9d-5fc0-49cb-808e-d283753e8c6a",
   "metadata": {},
   "outputs": [
    {
     "name": "stdout",
     "output_type": "stream",
     "text": [
      "{70, 40, 10, 50, 20, 60, 30}\n"
     ]
    }
   ],
   "source": [
    "set1 = {10, 20, 30, 40, 50}\n",
    "set2 = {30, 40, 50, 60, 70}\n",
    "\n",
    "print(set1.union(set2))"
   ]
  },
  {
   "cell_type": "code",
   "execution_count": 4,
   "id": "104031fa-0d62-4ec0-a881-2e805b23703c",
   "metadata": {},
   "outputs": [
    {
     "name": "stdout",
     "output_type": "stream",
     "text": [
      "{10, 30}\n"
     ]
    }
   ],
   "source": [
    "set1 = {10, 20, 30}\n",
    "set2 = {20, 40, 50}\n",
    "\n",
    "set1.difference_update(set2)\n",
    "print(set1)"
   ]
  },
  {
   "cell_type": "code",
   "execution_count": 5,
   "id": "284cff0b-6d95-4940-aa01-dce9bb4c3007",
   "metadata": {},
   "outputs": [
    {
     "name": "stdout",
     "output_type": "stream",
     "text": [
      "{20, 70, 10, 60}\n"
     ]
    }
   ],
   "source": [
    "set1 = {10, 20, 30, 40, 50}\n",
    "set2 = {30, 40, 50, 60, 70}\n",
    "\n",
    "print(set1.symmetric_difference(set2))"
   ]
  },
  {
   "cell_type": "code",
   "execution_count": 6,
   "id": "70c231e9-14e7-45b4-bd30-9e0aefc1cbfb",
   "metadata": {},
   "outputs": [
    {
     "name": "stdout",
     "output_type": "stream",
     "text": [
      "Two sets have items in common\n",
      "{10}\n"
     ]
    }
   ],
   "source": [
    "set1 = {10, 20, 30, 40, 50}\n",
    "set2 = {60, 70, 80, 90, 10}\n",
    "\n",
    "if set1.isdisjoint(set2):\n",
    "  print(\"Two sets have no items in common\")\n",
    "else:\n",
    "  print(\"Two sets have items in common\")\n",
    "  print(set1.intersection(set2))"
   ]
  },
  {
   "cell_type": "code",
   "execution_count": 7,
   "id": "01d403bb-a181-49cc-aaeb-3d35ff11d7ea",
   "metadata": {},
   "outputs": [
    {
     "name": "stdout",
     "output_type": "stream",
     "text": [
      "{40, 50, 30}\n"
     ]
    }
   ],
   "source": [
    "set1 = {10, 20, 30, 40, 50}\n",
    "set2 = {30, 40, 50, 60, 70}\n",
    "\n",
    "set1.intersection_update(set2)\n",
    "print(set1)"
   ]
  },
  {
   "cell_type": "code",
   "execution_count": null,
   "id": "3f875033-9c27-4fff-acae-8094d8735c08",
   "metadata": {},
   "outputs": [],
   "source": []
  }
 ],
 "metadata": {
  "kernelspec": {
   "display_name": "Python 3 (ipykernel)",
   "language": "python",
   "name": "python3"
  },
  "language_info": {
   "codemirror_mode": {
    "name": "ipython",
    "version": 3
   },
   "file_extension": ".py",
   "mimetype": "text/x-python",
   "name": "python",
   "nbconvert_exporter": "python",
   "pygments_lexer": "ipython3",
   "version": "3.10.4"
  }
 },
 "nbformat": 4,
 "nbformat_minor": 5
}
