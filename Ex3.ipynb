{
 "cells": [
  {
   "cell_type": "code",
   "execution_count": 1,
   "id": "0addc8f6-eca6-4493-a1de-c998cb9c58bd",
   "metadata": {},
   "outputs": [
    {
     "name": "stdout",
     "output_type": "stream",
     "text": [
      "1\n",
      "2\n",
      "3\n",
      "4\n",
      "5\n",
      "6\n",
      "7\n",
      "8\n",
      "9\n",
      "10\n"
     ]
    }
   ],
   "source": [
    "# program 1: Print first 10 natural numbers\n",
    "i = 1\n",
    "while i <= 10:\n",
    "    print(i)\n",
    "    i += 1\n"
   ]
  },
  {
   "cell_type": "code",
   "execution_count": 2,
   "id": "97d124bd-1208-473e-b9be-820974546d63",
   "metadata": {},
   "outputs": [
    {
     "name": "stdout",
     "output_type": "stream",
     "text": [
      "Number Pattern \n",
      "1 \n",
      "1 2 \n",
      "1 2 3 \n",
      "1 2 3 4 \n",
      "1 2 3 4 5 \n"
     ]
    }
   ],
   "source": [
    "print(\"Number Pattern \")\n",
    "\n",
    "# Decide the row count. (above pattern contains 5 rows)\n",
    "row = 5\n",
    "# start: 1\n",
    "# stop: row+1 (range never include stop number in result)\n",
    "# step: 1\n",
    "# run loop 5 times\n",
    "for i in range(1, row + 1, 1):\n",
    "    # Run inner loop i+1 times\n",
    "    for j in range(1, i + 1):\n",
    "        print(j, end=' ')\n",
    "    # empty line after each row\n",
    "    print(\"\")\n"
   ]
  },
  {
   "cell_type": "code",
   "execution_count": 3,
   "id": "6be6e368-2dd9-42e8-a077-6e12c948d4a2",
   "metadata": {},
   "outputs": [
    {
     "name": "stdin",
     "output_type": "stream",
     "text": [
      "Enter number  2\n"
     ]
    },
    {
     "name": "stdout",
     "output_type": "stream",
     "text": [
      "\n",
      "\n",
      "Sum is:  3\n"
     ]
    }
   ],
   "source": [
    "# s: store sum of all numbers\n",
    "s = 0\n",
    "n = int(input(\"Enter number \"))\n",
    "# run loop n times\n",
    "# stop: n+1 (because range never include stop number in result)\n",
    "for i in range(1, n + 1, 1):\n",
    "    # add current number to sum variable\n",
    "    s += i\n",
    "print(\"\\n\")\n",
    "print(\"Sum is: \", s)\n"
   ]
  },
  {
   "cell_type": "code",
   "execution_count": 4,
   "id": "fbde0c2f-9bee-4b78-83af-e534b6fd93b4",
   "metadata": {},
   "outputs": [
    {
     "name": "stdout",
     "output_type": "stream",
     "text": [
      "2\n",
      "4\n",
      "6\n",
      "8\n",
      "10\n",
      "12\n",
      "14\n",
      "16\n",
      "18\n",
      "20\n"
     ]
    }
   ],
   "source": [
    "n = 2\n",
    "# stop: 11 (because range never include stop number in result)\n",
    "# run loop 10 times\n",
    "for i in range(1, 11, 1):\n",
    "    # 2 *i (current number)\n",
    "    product = n * i\n",
    "    print(product)\n"
   ]
  },
  {
   "cell_type": "code",
   "execution_count": 5,
   "id": "f81d773e-97e9-4e04-9dc9-a83276203eae",
   "metadata": {},
   "outputs": [
    {
     "name": "stdout",
     "output_type": "stream",
     "text": [
      "75\n",
      "150\n",
      "145\n"
     ]
    }
   ],
   "source": [
    "numbers = [12, 75, 150, 180, 145, 525, 50]\n",
    "# iterate each item of a list\n",
    "for item in numbers:\n",
    "    if item > 500:\n",
    "        break\n",
    "    elif item > 150:\n",
    "        continue\n",
    "    # check if number is divisible by 5\n",
    "    elif item % 5 == 0:\n",
    "        print(item)\n"
   ]
  },
  {
   "cell_type": "code",
   "execution_count": 6,
   "id": "333bee34-7147-4032-bb8e-aff98e88f272",
   "metadata": {},
   "outputs": [
    {
     "name": "stdout",
     "output_type": "stream",
     "text": [
      "Total digits are: 5\n"
     ]
    }
   ],
   "source": [
    "num = 75869\n",
    "count = 0\n",
    "while num != 0:\n",
    "    # floor division\n",
    "    # to reduce the last digit from number\n",
    "    num = num // 10\n",
    "\n",
    "    # increment counter by 1\n",
    "    count = count + 1\n",
    "print(\"Total digits are:\", count)"
   ]
  },
  {
   "cell_type": "code",
   "execution_count": 7,
   "id": "2437154a-70b5-484c-b4c5-d093a0945aba",
   "metadata": {},
   "outputs": [
    {
     "name": "stdout",
     "output_type": "stream",
     "text": [
      "5 4 3 2 1 \n",
      "4 3 2 1 \n",
      "3 2 1 \n",
      "2 1 \n",
      "1 \n",
      "\n"
     ]
    }
   ],
   "source": [
    "n = 5\n",
    "k = 5\n",
    "for i in range(0,n+1):\n",
    "    for j in range(k-i,0,-1):\n",
    "        print(j,end=' ')\n",
    "    print()"
   ]
  },
  {
   "cell_type": "code",
   "execution_count": 8,
   "id": "fd21fcaf-9555-404c-ab83-3224a93f6bc3",
   "metadata": {},
   "outputs": [
    {
     "name": "stdout",
     "output_type": "stream",
     "text": [
      "50\n",
      "40\n",
      "30\n",
      "20\n",
      "10\n"
     ]
    }
   ],
   "source": [
    "list1 = [10, 20, 30, 40, 50]\n",
    "# reverse list\n",
    "new_list = reversed(list1)\n",
    "# iterate reversed list\n",
    "for item in new_list:\n",
    "    print(item)\n"
   ]
  },
  {
   "cell_type": "code",
   "execution_count": 9,
   "id": "41c2bb50-c6f6-4c1f-a5f3-b72a1da1e935",
   "metadata": {},
   "outputs": [
    {
     "name": "stdout",
     "output_type": "stream",
     "text": [
      "-10\n",
      "-9\n",
      "-8\n",
      "-7\n",
      "-6\n",
      "-5\n",
      "-4\n",
      "-3\n",
      "-2\n",
      "-1\n"
     ]
    }
   ],
   "source": [
    "for num in range(-10, 0, 1):\n",
    "    print(num)"
   ]
  },
  {
   "cell_type": "code",
   "execution_count": 10,
   "id": "b6ac780b-f292-42ce-8bd5-3670d2fcc42e",
   "metadata": {},
   "outputs": [
    {
     "name": "stdout",
     "output_type": "stream",
     "text": [
      "0\n",
      "1\n",
      "2\n",
      "3\n",
      "4\n",
      "Done!\n"
     ]
    }
   ],
   "source": [
    "for i in range(5):\n",
    "    print(i)\n",
    "else:\n",
    "    print(\"Done!\")"
   ]
  },
  {
   "cell_type": "code",
   "execution_count": 11,
   "id": "9942d198-e292-46a8-b90e-e2ebeb76657b",
   "metadata": {},
   "outputs": [
    {
     "name": "stdout",
     "output_type": "stream",
     "text": [
      "Prime numbers between 25 and 50 are:\n",
      "29\n",
      "31\n",
      "37\n",
      "41\n",
      "43\n",
      "47\n"
     ]
    }
   ],
   "source": [
    "start = 25\n",
    "end = 50\n",
    "print(\"Prime numbers between\", start, \"and\", end, \"are:\")\n",
    "\n",
    "for num in range(start, end + 1):\n",
    "    # all prime numbers are greater than 1\n",
    "    # if number is less than or equal to 1, it is not prime\n",
    "    if num > 1:\n",
    "        for i in range(2, num):\n",
    "            # check for factors\n",
    "            if (num % i) == 0:\n",
    "                # not a prime number so break inner loop and\n",
    "                # look for next number\n",
    "                break\n",
    "        else:\n",
    "            print(num)"
   ]
  },
  {
   "cell_type": "code",
   "execution_count": 12,
   "id": "fe062bfd-21a4-44f9-aede-c601c954a783",
   "metadata": {},
   "outputs": [
    {
     "name": "stdout",
     "output_type": "stream",
     "text": [
      "Fibonacci sequence:\n",
      "0  1  1  2  3  5  8  13  21  34  "
     ]
    }
   ],
   "source": [
    "# first two numbers\n",
    "num1, num2 = 0, 1\n",
    "\n",
    "print(\"Fibonacci sequence:\")\n",
    "# run loop 10 times\n",
    "for i in range(10):\n",
    "    # print next number of a series\n",
    "    print(num1, end=\"  \")\n",
    "    # add last two numbers to get next number\n",
    "    res = num1 + num2\n",
    "\n",
    "    # update values\n",
    "    num1 = num2\n",
    "    num2 = res\n"
   ]
  },
  {
   "cell_type": "code",
   "execution_count": 13,
   "id": "2b2894d6-d6f5-4cc0-a0c7-0d8ed147328e",
   "metadata": {},
   "outputs": [
    {
     "name": "stdout",
     "output_type": "stream",
     "text": [
      "The factorial of 5 is 120\n"
     ]
    }
   ],
   "source": [
    "num = 5\n",
    "factorial = 1\n",
    "if num < 0:\n",
    "    print(\"Factorial does not exist for negative numbers\")\n",
    "elif num == 0:\n",
    "    print(\"The factorial of 0 is 1\")\n",
    "else:\n",
    "    # run loop 5 times\n",
    "    for i in range(1, num + 1):\n",
    "        # multiply factorial by current number\n",
    "        factorial = factorial * i\n",
    "    print(\"The factorial of\", num, \"is\", factorial)\n"
   ]
  },
  {
   "cell_type": "code",
   "execution_count": 14,
   "id": "4386aed3-aa8d-4ebd-908b-b7d4cff943de",
   "metadata": {},
   "outputs": [
    {
     "name": "stdout",
     "output_type": "stream",
     "text": [
      "Given Number  76542\n",
      "Revere Number  24567\n"
     ]
    }
   ],
   "source": [
    "num = 76542\n",
    "reverse_number = 0\n",
    "print(\"Given Number \", num)\n",
    "while num > 0:\n",
    "    reminder = num % 10\n",
    "    reverse_number = (reverse_number * 10) + reminder\n",
    "    num = num // 10\n",
    "print(\"Revere Number \", reverse_number)"
   ]
  },
  {
   "cell_type": "code",
   "execution_count": 15,
   "id": "b33a7c42-66a9-463b-bce6-bc16e4d12533",
   "metadata": {},
   "outputs": [
    {
     "name": "stdout",
     "output_type": "stream",
     "text": [
      "20 40 60 80 100 "
     ]
    }
   ],
   "source": [
    "my_list = [10, 20, 30, 40, 50, 60, 70, 80, 90, 100]\n",
    "# stat from index 1 with step 2( means 1, 3, 5, an so on)\n",
    "for i in my_list[1::2]:\n",
    "    print(i, end=\" \")"
   ]
  },
  {
   "cell_type": "code",
   "execution_count": 16,
   "id": "585d05ee-5415-4bc5-b0fe-3e859df7f9a3",
   "metadata": {},
   "outputs": [
    {
     "name": "stdout",
     "output_type": "stream",
     "text": [
      "Current Number is : 1  and the cube is 1\n",
      "Current Number is : 2  and the cube is 8\n",
      "Current Number is : 3  and the cube is 27\n",
      "Current Number is : 4  and the cube is 64\n",
      "Current Number is : 5  and the cube is 125\n",
      "Current Number is : 6  and the cube is 216\n"
     ]
    }
   ],
   "source": [
    "input_number = 6\n",
    "for i in range(1, input_number + 1):\n",
    "    print(\"Current Number is :\", i, \" and the cube is\", (i * i * i))"
   ]
  },
  {
   "cell_type": "code",
   "execution_count": 17,
   "id": "a38c86a3-c41e-45df-ab29-2f6d3fc8ebeb",
   "metadata": {},
   "outputs": [
    {
     "name": "stdout",
     "output_type": "stream",
     "text": [
      "2+22+222+2222+22222+\n",
      "Sum of above series is: 24690\n"
     ]
    }
   ],
   "source": [
    "n = 5\n",
    "# first number of sequence\n",
    "start = 2\n",
    "sum_seq = 0\n",
    "\n",
    "# run loop n times\n",
    "for i in range(0, n):\n",
    "    print(start, end=\"+\")\n",
    "    sum_seq += start\n",
    "    # calculate the next term\n",
    "    start = start * 10 + 2\n",
    "print(\"\\nSum of above series is:\", sum_seq)\n"
   ]
  },
  {
   "cell_type": "code",
   "execution_count": 18,
   "id": "72dd18f7-b6e2-4d0f-9559-7daf8d4c465f",
   "metadata": {},
   "outputs": [
    {
     "name": "stdout",
     "output_type": "stream",
     "text": [
      "* \n",
      "* * \n",
      "* * * \n",
      "* * * * \n",
      "* * * * * \n",
      "* * * * \n",
      "* * * \n",
      "* * \n",
      "* \n",
      "\n"
     ]
    }
   ],
   "source": [
    "rows = 5\n",
    "for i in range(0, rows):\n",
    "    for j in range(0, i + 1):\n",
    "        print(\"*\", end=' ')\n",
    "    print(\"\\r\")\n",
    "\n",
    "for i in range(rows, 0, -1):\n",
    "    for j in range(0, i - 1):\n",
    "        print(\"*\", end=' ')\n",
    "    print(\"\\r\")\n"
   ]
  },
  {
   "cell_type": "code",
   "execution_count": null,
   "id": "fbbecb9b-08de-45c5-b84d-255be740fcab",
   "metadata": {},
   "outputs": [],
   "source": []
  }
 ],
 "metadata": {
  "kernelspec": {
   "display_name": "Python 3 (ipykernel)",
   "language": "python",
   "name": "python3"
  },
  "language_info": {
   "codemirror_mode": {
    "name": "ipython",
    "version": 3
   },
   "file_extension": ".py",
   "mimetype": "text/x-python",
   "name": "python",
   "nbconvert_exporter": "python",
   "pygments_lexer": "ipython3",
   "version": "3.10.4"
  }
 },
 "nbformat": 4,
 "nbformat_minor": 5
}
