{
 "cells": [
  {
   "cell_type": "code",
   "execution_count": 1,
   "id": "6ad152c3-2a0c-4d97-a26d-5ed1ce986181",
   "metadata": {},
   "outputs": [
    {
     "name": "stdout",
     "output_type": "stream",
     "text": [
      "2022-08-16 11:19:28.271343\n",
      "11:19:28.271548\n"
     ]
    }
   ],
   "source": [
    "import datetime\n",
    "\n",
    "# Print date and time\n",
    "print(datetime.datetime.now())\n",
    "\n",
    "# only time\n",
    "print(datetime.datetime.now().time())"
   ]
  },
  {
   "cell_type": "code",
   "execution_count": 2,
   "id": "ed9a8955-bcf0-4882-b96a-fe3181d483eb",
   "metadata": {},
   "outputs": [
    {
     "name": "stdout",
     "output_type": "stream",
     "text": [
      "2020-02-25 16:20:00\n"
     ]
    }
   ],
   "source": [
    "from datetime import datetime\n",
    "\n",
    "date_string = \"Feb 25 2020  4:20PM\"\n",
    "datetime_object = datetime.strptime(date_string, '%b %d %Y %I:%M%p')\n",
    "print(datetime_object)\n"
   ]
  },
  {
   "cell_type": "code",
   "execution_count": 3,
   "id": "f5449d23-eae2-4bfc-8db0-ad3d02c9daee",
   "metadata": {},
   "outputs": [
    {
     "name": "stdout",
     "output_type": "stream",
     "text": [
      "Given date\n",
      "2020-02-25 00:00:00\n",
      "New Date\n",
      "2020-02-18 00:00:00\n"
     ]
    }
   ],
   "source": [
    "from datetime import datetime, timedelta\n",
    "\n",
    "given_date = datetime(2020, 2, 25)\n",
    "print(\"Given date\")\n",
    "print(given_date)\n",
    "\n",
    "days_to_subtract = 7\n",
    "res_date = given_date - timedelta(days=days_to_subtract)\n",
    "print(\"New Date\")\n",
    "print(res_date)\n"
   ]
  },
  {
   "cell_type": "code",
   "execution_count": 4,
   "id": "9c692597-2088-4d7f-a899-ee6fc5222245",
   "metadata": {},
   "outputs": [
    {
     "name": "stdout",
     "output_type": "stream",
     "text": [
      "Given date is\n",
      "Tuesday 25 February 2020\n"
     ]
    }
   ],
   "source": [
    "from datetime import datetime\n",
    "\n",
    "given_date = datetime(2020, 2, 25)\n",
    "print(\"Given date is\")\n",
    "print(given_date.strftime('%A %d %B %Y'))\n"
   ]
  },
  {
   "cell_type": "code",
   "execution_count": 5,
   "id": "6db6ba3e-6b9a-4ffb-a731-b01738f0d4ed",
   "metadata": {},
   "outputs": [
    {
     "name": "stdout",
     "output_type": "stream",
     "text": [
      "Sunday\n"
     ]
    }
   ],
   "source": [
    "import calendar\n",
    "from datetime import datetime\n",
    "\n",
    "given_date = datetime(2020, 7, 26)\n",
    "weekday = calendar.day_name[given_date.weekday()]\n",
    "print(weekday)"
   ]
  },
  {
   "cell_type": "code",
   "execution_count": 6,
   "id": "fffe1733-2eb9-4469-9517-81f52ac3d7cc",
   "metadata": {},
   "outputs": [
    {
     "name": "stdout",
     "output_type": "stream",
     "text": [
      "Given date\n",
      "2020-03-22 10:00:00\n",
      "New Date\n",
      "2020-03-29 22:00:00\n"
     ]
    }
   ],
   "source": [
    "from datetime import datetime, timedelta\n",
    "\n",
    "given_date = datetime(2020, 3, 22, 10, 00, 00)\n",
    "print(\"Given date\")\n",
    "print(given_date)\n",
    "\n",
    "days_to_add = 7\n",
    "res_date = given_date + timedelta(days=days_to_add, hours=12)\n",
    "print(\"New Date\")\n",
    "print(res_date)"
   ]
  },
  {
   "cell_type": "code",
   "execution_count": null,
   "id": "1957eabf-4724-4b38-82b6-72cf7a50343d",
   "metadata": {},
   "outputs": [],
   "source": []
  }
 ],
 "metadata": {
  "kernelspec": {
   "display_name": "Python 3 (ipykernel)",
   "language": "python",
   "name": "python3"
  },
  "language_info": {
   "codemirror_mode": {
    "name": "ipython",
    "version": 3
   },
   "file_extension": ".py",
   "mimetype": "text/x-python",
   "name": "python",
   "nbconvert_exporter": "python",
   "pygments_lexer": "ipython3",
   "version": "3.10.4"
  }
 },
 "nbformat": 4,
 "nbformat_minor": 5
}
