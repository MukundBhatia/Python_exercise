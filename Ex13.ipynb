{
 "cells": [
  {
   "cell_type": "code",
   "execution_count": 31,
   "metadata": {},
   "outputs": [
    {
     "name": "stdout",
     "output_type": "stream",
     "text": [
      "{\"key1\": \"value1\", \"key2\": \"value2\"}\n"
     ]
    }
   ],
   "source": [
    "#Q1. Convert the following dictionary into JSON format\n",
    "d=json.dumps({\"key1\":\"value1\",\"key2\":\"value2\"})\n",
    "print(d)"
   ]
  },
  {
   "cell_type": "code",
   "execution_count": 32,
   "metadata": {},
   "outputs": [
    {
     "name": "stdout",
     "output_type": "stream",
     "text": [
      "value2\n"
     ]
    }
   ],
   "source": [
    "#Q2. Access the value of key2 from the following JSON\n",
    "\n",
    "sampleJson = \"\"\"{\"key1\": \"value1\", \"key2\": \"value2\"}\"\"\"\n",
    "dict_2=json.loads(sampleJson)\n",
    "print(dict_2.get(\"key2\"))"
   ]
  },
  {
   "cell_type": "code",
   "execution_count": 33,
   "metadata": {},
   "outputs": [
    {
     "name": "stdout",
     "output_type": "stream",
     "text": [
      "{\n",
      "  \"key1\" = \"value1\",\n",
      "  \"key2\" = \"value2\"\n",
      "}\n"
     ]
    }
   ],
   "source": [
    "#Q3. PrettyPrint following JSON data\n",
    "sampleJson = {\"key1\": \"value1\", \"key2\": \"value2\"}\n",
    "prettyjson=json.dumps(sampleJson,indent=2,separators=(\",\", \" = \"))\n",
    "print(prettyjson)"
   ]
  },
  {
   "cell_type": "code",
   "execution_count": 34,
   "metadata": {},
   "outputs": [],
   "source": [
    "#Q4.  Sort JSON keys in and write them into a file\n",
    "sampleJson = {\"id\" : 1, \"name\" : \"value2\", \"age\" : 29}\n",
    "\n",
    "with open(\"sampleJson.json\",\"w\") as fp:\n",
    "    json.dump(sampleJson,fp, indent=4, sort_keys=True)\n"
   ]
  },
  {
   "cell_type": "code",
   "execution_count": 35,
   "metadata": {},
   "outputs": [
    {
     "name": "stdout",
     "output_type": "stream",
     "text": [
      "7000\n"
     ]
    }
   ],
   "source": [
    "#Q5.  Access the nested key ‘salary’ from the following JSON\n",
    "sampleJson = \"\"\"{ \n",
    "   \"company\":{ \n",
    "      \"employee\":{ \n",
    "         \"name\":\"emma\",\n",
    "         \"payble\":{ \n",
    "            \"salary\":7000,\n",
    "            \"bonus\":800\n",
    "         }\n",
    "      }\n",
    "   }\n",
    "}\"\"\"\n",
    "\n",
    "data= json.loads(sampleJson)\n",
    "print(data['company']['employee']['payble']['salary'])"
   ]
  },
  {
   "cell_type": "code",
   "execution_count": 36,
   "metadata": {},
   "outputs": [
    {
     "name": "stdout",
     "output_type": "stream",
     "text": [
      "{\n",
      "    \"name\": \"Toyota Rav4\",\n",
      "    \"engine\": \"2.5L\",\n",
      "    \"price\": 32000\n",
      "}\n"
     ]
    }
   ],
   "source": [
    "#Q6. Convert the following Vehicle Object into JSON\n",
    "import json\n",
    "\n",
    "class Vehicle:\n",
    "    def __init__(self, name, engine, price):\n",
    "        self.name = name\n",
    "        self.engine = engine\n",
    "        self.price = price\n",
    "\n",
    "vehicle = Vehicle(\"Toyota Rav4\", \"2.5L\", 32000)\n",
    "\n",
    "#convert it into JSON format\n",
    "from json import JSONEncoder\n",
    "\n",
    "class VehicleEncoder(JSONEncoder):\n",
    "    def default(self,o):\n",
    "        return o.__dict__\n",
    "\n",
    "vehicleJsondata=json.dumps(vehicle,indent=4,cls=VehicleEncoder)\n",
    "print(vehicleJsondata)"
   ]
  },
  {
   "cell_type": "code",
   "execution_count": 42,
   "metadata": {},
   "outputs": [
    {
     "name": "stdout",
     "output_type": "stream",
     "text": [
      "Toyota Rav4 2.5L 32000\n"
     ]
    }
   ],
   "source": [
    "#Q7 Convert the following JSON into Vehicle Object\n",
    "vehicle_json='{ \"name\": \"Toyota Rav4\", \"engine\": \"2.5L\", \"price\": 32000 }'\n",
    "from collections import namedtuple\n",
    "\n",
    "def customvehicledecoder(vehicle_data):\n",
    "    return namedtuple('X',vehicle_data.keys())(*vehicle_data.values())\n",
    "\n",
    "vehicleObj=json.loads(vehicle_json,object_hook=customvehicledecoder)\n",
    "\n",
    "print(vehicleObj.name, vehicleObj.engine, vehicleObj.price)"
   ]
  },
  {
   "cell_type": "code",
   "execution_count": 43,
   "metadata": {},
   "outputs": [
    {
     "name": "stdout",
     "output_type": "stream",
     "text": [
      "Given JSON string is Valid False\n"
     ]
    }
   ],
   "source": [
    "#Q8. Check whether following json is valid or invalid. If Invalid correct it\n",
    "def validateJSON(jsonData):\n",
    "    try:\n",
    "        json.loads(jsonData)\n",
    "    except ValueError as err:\n",
    "        return False\n",
    "    return True\n",
    "\n",
    "InvalidJsonData = \"\"\"{ \"company\":{ \"employee\":{ \"name\":\"emma\", \"payble\":{ \"salary\":7000 \"bonus\":800} } } }\"\"\"\n",
    "isValid = validateJSON(InvalidJsonData)\n",
    "\n",
    "print(\"Given JSON string is Valid\", isValid)"
   ]
  },
  {
   "cell_type": "code",
   "execution_count": 50,
   "metadata": {},
   "outputs": [
    {
     "name": "stdout",
     "output_type": "stream",
     "text": [
      "['name1', 'name2']\n"
     ]
    }
   ],
   "source": [
    "#Q9. Parse the following JSON to get all the values of a key ‘name’ within an array\n",
    "sampleJson = \"\"\"[ \n",
    "   { \n",
    "      \"id\":1,\n",
    "      \"name\":\"name1\",\n",
    "      \"color\":[ \n",
    "         \"red\",\n",
    "         \"green\"\n",
    "      ]\n",
    "   },\n",
    "   { \n",
    "      \"id\":2,\n",
    "      \"name\":\"name2\",\n",
    "      \"color\":[ \n",
    "         \"pink\",\n",
    "         \"yellow\"\n",
    "      ]\n",
    "   }\n",
    "]\"\"\"\n",
    "\n",
    "data=json.loads(sampleJson)\n",
    "datalist=[]\n",
    "for item in data:\n",
    "    datalist.append(item[\"name\"])\n",
    "print(datalist)"
   ]
  }
 ],
 "metadata": {
  "interpreter": {
   "hash": "fedce0a4ea0045cb69e7aefb01f053c52795c13ee685697278588870a128ec62"
  },
  "kernelspec": {
   "display_name": "Python 3.10.4 64-bit",
   "language": "python",
   "name": "python3"
  },
  "language_info": {
   "codemirror_mode": {
    "name": "ipython",
    "version": 3
   },
   "file_extension": ".py",
   "mimetype": "text/x-python",
   "name": "python",
   "nbconvert_exporter": "python",
   "pygments_lexer": "ipython3",
   "version": "3.10.4"
  },
  "orig_nbformat": 4
 },
 "nbformat": 4,
 "nbformat_minor": 2
}
