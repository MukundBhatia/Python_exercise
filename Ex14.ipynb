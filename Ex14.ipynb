{
 "cells": [
  {
   "cell_type": "code",
   "execution_count": 1,
   "id": "f5aff515-a318-4843-90aa-986220c64881",
   "metadata": {},
   "outputs": [
    {
     "name": "stdout",
     "output_type": "stream",
     "text": [
      "Generating 3 random integer number between 100 and 999 divisible by 5\n",
      "870, 435, 825, "
     ]
    }
   ],
   "source": [
    "import random\n",
    "\n",
    "print(\"Generating 3 random integer number between 100 and 999 divisible by 5\")\n",
    "for num in range(3):\n",
    "    print(random.randrange(100, 999, 5), end=', ')"
   ]
  },
  {
   "cell_type": "code",
   "execution_count": 2,
   "id": "8dc5097d-bea0-4b61-a7c4-973df98fa377",
   "metadata": {},
   "outputs": [
    {
     "name": "stdout",
     "output_type": "stream",
     "text": [
      "creating 100 random lottery tickets\n",
      "Lucky 2 lottery tickets are [8158795891, 5279093538]\n"
     ]
    }
   ],
   "source": [
    "import random\n",
    "\n",
    "lottery_tickets_list = []\n",
    "print(\"creating 100 random lottery tickets\")\n",
    "# to get 100 ticket\n",
    "for i in range(100):\n",
    "    # ticket number must be 10 digit (1000000000, 9999999999)\n",
    "    lottery_tickets_list.append(random.randrange(1000000000, 9999999999))\n",
    "# pick 2 luck tickets\n",
    "winners = random.sample(lottery_tickets_list, 2)\n",
    "print(\"Lucky 2 lottery tickets are\", winners)\n"
   ]
  },
  {
   "cell_type": "code",
   "execution_count": 3,
   "id": "f746d297-4766-45f0-83e5-8d6b0c7f6a98",
   "metadata": {},
   "outputs": [
    {
     "name": "stdout",
     "output_type": "stream",
     "text": [
      "Generating 6 digit random OTP\n",
      "Secure random OTP is  151019\n"
     ]
    }
   ],
   "source": [
    "import secrets\n",
    "\n",
    "#Getting systemRandom class instance out of secrets module\n",
    "secretsGenerator = secrets.SystemRandom()\n",
    "\n",
    "print(\"Generating 6 digit random OTP\")\n",
    "otp = secretsGenerator.randrange(100000, 999999)\n",
    "\n",
    "print(\"Secure random OTP is \", otp)"
   ]
  },
  {
   "cell_type": "code",
   "execution_count": 4,
   "id": "77ab44a3-049c-4e10-a3e2-fcc67bffa4a0",
   "metadata": {},
   "outputs": [
    {
     "name": "stdout",
     "output_type": "stream",
     "text": [
      "random char is  p\n"
     ]
    }
   ],
   "source": [
    "import random\n",
    "\n",
    "name = 'pynative'\n",
    "char = random.choice(name)\n",
    "print(\"random char is \", char)"
   ]
  },
  {
   "cell_type": "code",
   "execution_count": 5,
   "id": "631246b9-455c-4cdd-a707-ff96f5c105d2",
   "metadata": {},
   "outputs": [
    {
     "name": "stdout",
     "output_type": "stream",
     "text": [
      "Random String is  JjtuB\n"
     ]
    }
   ],
   "source": [
    "import random\n",
    "import string\n",
    "\n",
    "def randomString(stringLength):\n",
    "    \"\"\"Generate a random string of 5 charcters\"\"\"\n",
    "    letters = string.ascii_letters\n",
    "    return ''.join(random.choice(letters) for i in range(stringLength))\n",
    "\n",
    "print (\"Random String is \", randomString(5) )"
   ]
  },
  {
   "cell_type": "code",
   "execution_count": 6,
   "id": "3f3878ed-1d21-4949-87cf-e02af4da06e5",
   "metadata": {},
   "outputs": [
    {
     "name": "stdout",
     "output_type": "stream",
     "text": [
      "Password is  Sos2R=Za$O\n"
     ]
    }
   ],
   "source": [
    "import random\n",
    "import string\n",
    "\n",
    "def randomPassword():\n",
    "    randomSource = string.ascii_letters + string.digits + string.punctuation\n",
    "    password = random.sample(randomSource, 6)\n",
    "    password += random.sample(string.ascii_uppercase, 2)\n",
    "    password += random.choice(string.digits)\n",
    "    password += random.choice(string.punctuation)\n",
    "\n",
    "    passwordList = list(password)\n",
    "    random.SystemRandom().shuffle(passwordList)\n",
    "    password = ''.join(passwordList)\n",
    "    return password\n",
    "\n",
    "print (\"Password is \", randomPassword())"
   ]
  },
  {
   "cell_type": "code",
   "execution_count": 7,
   "id": "5ee616ab-efc3-41dd-84b0-ca03dfd9009c",
   "metadata": {},
   "outputs": [
    {
     "name": "stdout",
     "output_type": "stream",
     "text": [
      "First Random float is  0.4957153248100661\n",
      "Second Random float is  0.4957153248100661\n",
      "Multiplication is  17.770734766391232\n"
     ]
    }
   ],
   "source": [
    "import random\n",
    "\n",
    "num1  = random.random()\n",
    "print(\"First Random float is \", num1)\n",
    "num2 = random.uniform(9.5, 99.5)\n",
    "print(\"Second Random float is \", num1)\n",
    "\n",
    "num3 = num1 * num2\n",
    "print(\"Multiplication is \", num3)"
   ]
  },
  {
   "cell_type": "code",
   "execution_count": 8,
   "id": "d2a13e42-99d6-4258-b0b5-89aafee77d91",
   "metadata": {},
   "outputs": [
    {
     "name": "stdout",
     "output_type": "stream",
     "text": [
      "Random secure Hexadecimal token is  1775cda70c3161edd7423d2d70082e1f4d65364f43dafa6bb6093dc4693e76055d0621b88a55222f5aa19b395e3e3ac9bcb80140a77e49192f354edda2afc1b3\n",
      "Random secure URL is  eualH8xdHZjcHfoxA0KSRcwb2IsWH820ixMsPU8fw259B3NtTbtZfhWhkmNC51h67CrGH7Kcq6KZFqrG9Bhluw\n"
     ]
    }
   ],
   "source": [
    "import secrets\n",
    "\n",
    "print(\"Random secure Hexadecimal token is \", secrets.token_hex(64))\n",
    "print(\"Random secure URL is \", secrets.token_urlsafe(64))"
   ]
  },
  {
   "cell_type": "code",
   "execution_count": 9,
   "id": "0ae4242f-43f0-43d0-adb2-92d800ba89ac",
   "metadata": {},
   "outputs": [
    {
     "name": "stdout",
     "output_type": "stream",
     "text": [
      "Randomly selecting same number of a dice\n",
      "4\n",
      "4\n",
      "4\n",
      "4\n",
      "4\n"
     ]
    }
   ],
   "source": [
    "import random\n",
    "\n",
    "dice = [1, 2, 3, 4, 5, 6]\n",
    "print(\"Randomly selecting same number of a dice\")\n",
    "for i in range(5):\n",
    "    random.seed(25)\n",
    "    print(random.choice(dice))"
   ]
  },
  {
   "cell_type": "code",
   "execution_count": 10,
   "id": "e48bc62e-e80a-4c88-9eb9-8efa97678f3c",
   "metadata": {},
   "outputs": [
    {
     "name": "stdout",
     "output_type": "stream",
     "text": [
      "Printing random date between 1/1/2016  and  12/12/2018\n",
      "Random Date =  04/06/2018\n"
     ]
    }
   ],
   "source": [
    "import random\n",
    "import time\n",
    "\n",
    "def getRandomDate(startDate, endDate ):\n",
    "    print(\"Printing random date between\", startDate, \" and \", endDate)\n",
    "    randomGenerator = random.random()\n",
    "    dateFormat = '%m/%d/%Y'\n",
    "\n",
    "    startTime = time.mktime(time.strptime(startDate, dateFormat))\n",
    "    endTime = time.mktime(time.strptime(endDate, dateFormat))\n",
    "\n",
    "    randomTime = startTime + randomGenerator * (endTime - startTime)\n",
    "    randomDate = time.strftime(dateFormat, time.localtime(randomTime))\n",
    "    return randomDate\n",
    "\n",
    "print (\"Random Date = \", getRandomDate(\"1/1/2016\", \"12/12/2018\"))\n"
   ]
  },
  {
   "cell_type": "code",
   "execution_count": null,
   "id": "3592d21d-1849-4812-9911-1b6e74cec3de",
   "metadata": {},
   "outputs": [],
   "source": []
  }
 ],
 "metadata": {
  "kernelspec": {
   "display_name": "Python 3 (ipykernel)",
   "language": "python",
   "name": "python3"
  },
  "language_info": {
   "codemirror_mode": {
    "name": "ipython",
    "version": 3
   },
   "file_extension": ".py",
   "mimetype": "text/x-python",
   "name": "python",
   "nbconvert_exporter": "python",
   "pygments_lexer": "ipython3",
   "version": "3.10.4"
  }
 },
 "nbformat": 4,
 "nbformat_minor": 5
}
